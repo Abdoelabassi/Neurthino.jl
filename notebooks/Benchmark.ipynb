{
 "cells": [
  {
   "cell_type": "code",
   "execution_count": null,
   "metadata": {},
   "outputs": [],
   "source": [
    "using Pkg\n",
    "Pkg.activate(\"..\")\n",
    "\n",
    "using Neurthino\n",
    "using BenchmarkTools\n",
    "using Profile\n",
    "using ProfileVega\n",
    "using StaticArrays"
   ]
  },
  {
   "cell_type": "code",
   "execution_count": null,
   "metadata": {},
   "outputs": [],
   "source": [
    "const osc = OscillationParameters(3)\n",
    "\n",
    "@code_warntype Hamiltonian(osc)"
   ]
  },
  {
   "cell_type": "code",
   "execution_count": null,
   "metadata": {},
   "outputs": [],
   "source": [
    "function foo()\n",
    "    osc = OscillationParameters(3);\n",
    "\n",
    "    U = PMNSMatrix(osc)\n",
    "    H = Hamiltonian(osc)\n",
    "end\n",
    "\n",
    "@code_warntype foo()"
   ]
  },
  {
   "cell_type": "code",
   "execution_count": null,
   "metadata": {},
   "outputs": [],
   "source": [
    "function main()\n",
    "    osc = OscillationParameters(3);\n",
    "    mixingangle!(osc, 1=>2, 0.594);\n",
    "    mixingangle!(osc, 1=>3, 0.161);\n",
    "    mixingangle!(osc, 2=>3, 0.700);\n",
    "    cpphase!(osc, 1=>3, 5.34);\n",
    "    masssquareddiff!(osc, 2=>3, -2.32e-3);\n",
    "    masssquareddiff!(osc, 1=>3, -2.32e-3-7.59e-5);\n",
    "    masssquareddiff!(osc, 1=>2, -7.59e-5);\n",
    "\n",
    "    U = PMNSMatrix(osc)\n",
    "    H = Hamiltonian(osc)\n",
    "\n",
    "    samples = 100\n",
    "    \n",
    "    coszenith = range(-1; stop=0, length=samples)\n",
    "    zenith = acos.(coszenith)\n",
    "    energies = 10 .^(range(0;stop=2,length=samples))\n",
    "\n",
    "    doosc(osc, zenith, energies)\n",
    "end\n",
    "\n",
    "\n",
    "\n",
    "function doosc(osc, zenith, energies)\n",
    "    data_points = zeros((3,3,length(zenith), length(energies)))\n",
    "\n",
    "    first_call = true\n",
    "    for (i,z) in enumerate(zenith)\n",
    "        sec, dens = Neurthino.prempath(z, 2.5, samples=50)\n",
    "        if first_call\n",
    "            Neurthino.mattertransprob(osc, energies, dens, sec)\n",
    "            first_call = false\n",
    "        end\n",
    "        P = @profile Neurthino.mattertransprob(osc, energies, dens, sec)\n",
    "        for (k,l) in Iterators.product(fill(1:3, 2)...)\n",
    "            @inbounds data_points[k,l,i,:] = map(x->x[k,l], P)\n",
    "        end\n",
    "    end\n",
    "    return data_points\n",
    "end"
   ]
  },
  {
   "cell_type": "code",
   "execution_count": null,
   "metadata": {},
   "outputs": [],
   "source": [
    "ProfileVega.view()"
   ]
  },
  {
   "cell_type": "code",
   "execution_count": null,
   "metadata": {},
   "outputs": [],
   "source": [
    "Profile.print()"
   ]
  },
  {
   "cell_type": "code",
   "execution_count": null,
   "metadata": {},
   "outputs": [],
   "source": []
  }
 ],
 "metadata": {
  "kernelspec": {
   "display_name": "Julia 1.5.3",
   "language": "julia",
   "name": "julia-1.5"
  },
  "language_info": {
   "file_extension": ".jl",
   "mimetype": "application/julia",
   "name": "julia",
   "version": "1.5.3"
  }
 },
 "nbformat": 4,
 "nbformat_minor": 4
}
